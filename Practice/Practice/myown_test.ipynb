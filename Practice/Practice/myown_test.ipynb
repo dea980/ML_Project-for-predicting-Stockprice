{
  "cells": [
    {
      "cell_type": "markdown",
      "metadata": {
        "id": "9nbV9hpwqQbH"
      },
      "source": [
        "4.2 Predicting Future Stock Prices with LSTM in TensorFlow Keras"
      ]
    },
    {
      "cell_type": "markdown",
      "metadata": {
        "id": "wHqi85jvqSiJ"
      },
      "source": [
        "Data set from the Yahoo finance ... with the Nike's data!\n",
        "Before that is the tensorflow is upgrade or not because we are going to use the tensorflow  package"
      ]
    },
    {
      "cell_type": "code",
      "execution_count": 5,
      "metadata": {
        "colab": {
          "base_uri": "https://localhost:8080/"
        },
        "id": "coKlYMUtqJrm",
        "outputId": "ec8917c6-267a-40c5-f4df-b57784e41322"
      },
      "outputs": [
        {
          "name": "stdout",
          "output_type": "stream",
          "text": [
            "ERROR: unknown command \"install--upgrade\" - maybe you meant \"install\"\n"
          ]
        }
      ],
      "source": [
        "# checking the tensorflow is installed and check for the most recent version for the tensorflow\n",
        "!pip install--upgrade tensorflow"
      ]
    },
    {
      "cell_type": "markdown",
      "metadata": {
        "id": "QhutfAOoriP9"
      },
      "source": [
        "#Import the Dataset\n",
        "From this we could get the dataset from Yahoofinance website.\n",
        "\n",
        "since I am using the Nike dataset for my own try!\n",
        "https://finance.yahoo.com/quote/NKE?p=NKE&.tsrc=fin-srch\n",
        "\n",
        "will be my link.\n"
      ]
    },
    {
      "cell_type": "markdown",
      "metadata": {
        "id": "DANCfVcZsGDg"
      },
      "source": [
        "##For the dataset, we need the two dataset which are for train and test.\n",
        "###For the Train dataset, usually use the longterm for training, For the the test dataset, usually use the shortterm for the testing\n",
        "###Therefore, the size of the training dataset and test dataset are different each other."
      ]
    },
    {
      "cell_type": "code",
      "execution_count": 7,
      "metadata": {
        "id": "m3n2EfCrqn3q"
      },
      "outputs": [],
      "source": [
        "## for importing libraries\n",
        "import pandas as pd\n",
        "import numpy as np\n",
        "\n",
        "## import the dataset \n",
        "## I downloaded my dataset in local computer and upload on the colab to check the dataset\n",
        "\n",
        "nk_complete_data = pd.read_csv(\"/content/NKE_train.csv\")"
      ]
    },
    {
      "cell_type": "markdown",
      "metadata": {
        "id": "PBIM97ilsmax"
      },
      "source": [
        "Checks if the dataset read in properly."
      ]
    },
    {
      "cell_type": "code",
      "execution_count": 8,
      "metadata": {
        "colab": {
          "base_uri": "https://localhost:8080/",
          "height": 204
        },
        "id": "eEuNDp6Zs5OC",
        "outputId": "e533427c-dee1-40de-b46e-b1e7f7fb08db"
      },
      "outputs": [
        {
          "data": {
            "text/html": [
              "\n",
              "  <div id=\"df-bb888b3b-8a2f-4210-be4a-029ac58ee199\">\n",
              "    <div class=\"colab-df-container\">\n",
              "      <div>\n",
              "<style scoped>\n",
              "    .dataframe tbody tr th:only-of-type {\n",
              "        vertical-align: middle;\n",
              "    }\n",
              "\n",
              "    .dataframe tbody tr th {\n",
              "        vertical-align: top;\n",
              "    }\n",
              "\n",
              "    .dataframe thead th {\n",
              "        text-align: right;\n",
              "    }\n",
              "</style>\n",
              "<table border=\"1\" class=\"dataframe\">\n",
              "  <thead>\n",
              "    <tr style=\"text-align: right;\">\n",
              "      <th></th>\n",
              "      <th>Date</th>\n",
              "      <th>Open</th>\n",
              "      <th>High</th>\n",
              "      <th>Low</th>\n",
              "      <th>Close</th>\n",
              "      <th>Adj Close</th>\n",
              "      <th>Volume</th>\n",
              "    </tr>\n",
              "  </thead>\n",
              "  <tbody>\n",
              "    <tr>\n",
              "      <th>0</th>\n",
              "      <td>2015-01-02</td>\n",
              "      <td>48.275002</td>\n",
              "      <td>48.474998</td>\n",
              "      <td>47.055000</td>\n",
              "      <td>47.514999</td>\n",
              "      <td>43.770935</td>\n",
              "      <td>4985800</td>\n",
              "    </tr>\n",
              "    <tr>\n",
              "      <th>1</th>\n",
              "      <td>2015-01-05</td>\n",
              "      <td>47.255001</td>\n",
              "      <td>47.275002</td>\n",
              "      <td>46.564999</td>\n",
              "      <td>46.750000</td>\n",
              "      <td>43.066204</td>\n",
              "      <td>6889200</td>\n",
              "    </tr>\n",
              "    <tr>\n",
              "      <th>2</th>\n",
              "      <td>2015-01-06</td>\n",
              "      <td>46.945000</td>\n",
              "      <td>47.075001</td>\n",
              "      <td>46.035000</td>\n",
              "      <td>46.474998</td>\n",
              "      <td>42.812881</td>\n",
              "      <td>7576000</td>\n",
              "    </tr>\n",
              "    <tr>\n",
              "      <th>3</th>\n",
              "      <td>2015-01-07</td>\n",
              "      <td>46.805000</td>\n",
              "      <td>47.650002</td>\n",
              "      <td>46.549999</td>\n",
              "      <td>47.435001</td>\n",
              "      <td>43.697227</td>\n",
              "      <td>7256000</td>\n",
              "    </tr>\n",
              "    <tr>\n",
              "      <th>4</th>\n",
              "      <td>2015-01-08</td>\n",
              "      <td>47.830002</td>\n",
              "      <td>48.549999</td>\n",
              "      <td>47.810001</td>\n",
              "      <td>48.529999</td>\n",
              "      <td>44.705956</td>\n",
              "      <td>5978200</td>\n",
              "    </tr>\n",
              "  </tbody>\n",
              "</table>\n",
              "</div>\n",
              "      <button class=\"colab-df-convert\" onclick=\"convertToInteractive('df-bb888b3b-8a2f-4210-be4a-029ac58ee199')\"\n",
              "              title=\"Convert this dataframe to an interactive table.\"\n",
              "              style=\"display:none;\">\n",
              "        \n",
              "  <svg xmlns=\"http://www.w3.org/2000/svg\" height=\"24px\"viewBox=\"0 0 24 24\"\n",
              "       width=\"24px\">\n",
              "    <path d=\"M0 0h24v24H0V0z\" fill=\"none\"/>\n",
              "    <path d=\"M18.56 5.44l.94 2.06.94-2.06 2.06-.94-2.06-.94-.94-2.06-.94 2.06-2.06.94zm-11 1L8.5 8.5l.94-2.06 2.06-.94-2.06-.94L8.5 2.5l-.94 2.06-2.06.94zm10 10l.94 2.06.94-2.06 2.06-.94-2.06-.94-.94-2.06-.94 2.06-2.06.94z\"/><path d=\"M17.41 7.96l-1.37-1.37c-.4-.4-.92-.59-1.43-.59-.52 0-1.04.2-1.43.59L10.3 9.45l-7.72 7.72c-.78.78-.78 2.05 0 2.83L4 21.41c.39.39.9.59 1.41.59.51 0 1.02-.2 1.41-.59l7.78-7.78 2.81-2.81c.8-.78.8-2.07 0-2.86zM5.41 20L4 18.59l7.72-7.72 1.47 1.35L5.41 20z\"/>\n",
              "  </svg>\n",
              "      </button>\n",
              "      \n",
              "  <style>\n",
              "    .colab-df-container {\n",
              "      display:flex;\n",
              "      flex-wrap:wrap;\n",
              "      gap: 12px;\n",
              "    }\n",
              "\n",
              "    .colab-df-convert {\n",
              "      background-color: #E8F0FE;\n",
              "      border: none;\n",
              "      border-radius: 50%;\n",
              "      cursor: pointer;\n",
              "      display: none;\n",
              "      fill: #1967D2;\n",
              "      height: 32px;\n",
              "      padding: 0 0 0 0;\n",
              "      width: 32px;\n",
              "    }\n",
              "\n",
              "    .colab-df-convert:hover {\n",
              "      background-color: #E2EBFA;\n",
              "      box-shadow: 0px 1px 2px rgba(60, 64, 67, 0.3), 0px 1px 3px 1px rgba(60, 64, 67, 0.15);\n",
              "      fill: #174EA6;\n",
              "    }\n",
              "\n",
              "    [theme=dark] .colab-df-convert {\n",
              "      background-color: #3B4455;\n",
              "      fill: #D2E3FC;\n",
              "    }\n",
              "\n",
              "    [theme=dark] .colab-df-convert:hover {\n",
              "      background-color: #434B5C;\n",
              "      box-shadow: 0px 1px 3px 1px rgba(0, 0, 0, 0.15);\n",
              "      filter: drop-shadow(0px 1px 2px rgba(0, 0, 0, 0.3));\n",
              "      fill: #FFFFFF;\n",
              "    }\n",
              "  </style>\n",
              "\n",
              "      <script>\n",
              "        const buttonEl =\n",
              "          document.querySelector('#df-bb888b3b-8a2f-4210-be4a-029ac58ee199 button.colab-df-convert');\n",
              "        buttonEl.style.display =\n",
              "          google.colab.kernel.accessAllowed ? 'block' : 'none';\n",
              "\n",
              "        async function convertToInteractive(key) {\n",
              "          const element = document.querySelector('#df-bb888b3b-8a2f-4210-be4a-029ac58ee199');\n",
              "          const dataTable =\n",
              "            await google.colab.kernel.invokeFunction('convertToInteractive',\n",
              "                                                     [key], {});\n",
              "          if (!dataTable) return;\n",
              "\n",
              "          const docLinkHtml = 'Like what you see? Visit the ' +\n",
              "            '<a target=\"_blank\" href=https://colab.research.google.com/notebooks/data_table.ipynb>data table notebook</a>'\n",
              "            + ' to learn more about interactive tables.';\n",
              "          element.innerHTML = '';\n",
              "          dataTable['output_type'] = 'display_data';\n",
              "          await google.colab.output.renderOutput(dataTable, element);\n",
              "          const docLink = document.createElement('div');\n",
              "          docLink.innerHTML = docLinkHtml;\n",
              "          element.appendChild(docLink);\n",
              "        }\n",
              "      </script>\n",
              "    </div>\n",
              "  </div>\n",
              "  "
            ],
            "text/plain": [
              "         Date       Open       High        Low      Close  Adj Close   Volume\n",
              "0  2015-01-02  48.275002  48.474998  47.055000  47.514999  43.770935  4985800\n",
              "1  2015-01-05  47.255001  47.275002  46.564999  46.750000  43.066204  6889200\n",
              "2  2015-01-06  46.945000  47.075001  46.035000  46.474998  42.812881  7576000\n",
              "3  2015-01-07  46.805000  47.650002  46.549999  47.435001  43.697227  7256000\n",
              "4  2015-01-08  47.830002  48.549999  47.810001  48.529999  44.705956  5978200"
            ]
          },
          "execution_count": 8,
          "metadata": {},
          "output_type": "execute_result"
        }
      ],
      "source": [
        "nk_complete_data.head()"
      ]
    },
    {
      "cell_type": "markdown",
      "metadata": {
        "id": "r0AlwnAPs9R2"
      },
      "source": [
        "The output shows that our dataset consists of seven columns. However, in this section, we are only interested in the Open column. Therefore, we will select the Open column from the dataset."
      ]
    },
    {
      "cell_type": "code",
      "execution_count": 9,
      "metadata": {
        "id": "CtkYgzQ1s9st"
      },
      "outputs": [],
      "source": [
        "# we are make the data set in the right feature for predicting the trends\n",
        "nk_training_processed = nk_complete_data[['Open']].values"
      ]
    },
    {
      "cell_type": "code",
      "execution_count": 10,
      "metadata": {
        "id": "horLj-uitIio"
      },
      "outputs": [],
      "source": [
        "#Scaling feature\n",
        "from sklearn.preprocessing import MinMaxScaler\n",
        "scaler = MinMaxScaler(feature_range = (0, 1))\n",
        "nk_training_scaled = scaler.fit_transform(nk_training_processed)"
      ]
    },
    {
      "cell_type": "code",
      "execution_count": 11,
      "metadata": {
        "colab": {
          "base_uri": "https://localhost:8080/"
        },
        "id": "TomV3BsAtLOQ",
        "outputId": "ab810ec7-3418-4b4b-d0eb-3864514c1137"
      },
      "outputs": [
        {
          "data": {
            "text/plain": [
              "1993"
            ]
          },
          "execution_count": 11,
          "metadata": {},
          "output_type": "execute_result"
        }
      ],
      "source": [
        "### check the lenth of the training scaled dataset\n",
        "len(nk_training_scaled)"
      ]
    },
    {
      "cell_type": "markdown",
      "metadata": {
        "id": "omaRNE6ktTne"
      },
      "source": [
        "Our feature set will consist of 60 timesteps of 1 feature. The feature set basically consists of the opening stock price of the past 60 days"
      ]
    },
    {
      "cell_type": "code",
      "execution_count": 12,
      "metadata": {
        "id": "BnGRdS-_tU4t"
      },
      "outputs": [],
      "source": [
        "#training features contained data of last 60 days\n",
        "#training labels contain data of 61st day\n",
        "nk_training_features= []\n",
        "nk_training_labels = []\n",
        "for i in range(60, len(nk_training_scaled)):\n",
        "  nk_training_features.append(nk_training_scaled[i-60:i,0])\n",
        "  nk_training_labels.append(nk_training_scaled[i, 0])"
      ]
    },
    {
      "cell_type": "code",
      "execution_count": 13,
      "metadata": {
        "id": "UyZNLnUrtdJF"
      },
      "outputs": [],
      "source": [
        "#converting training data to numpy arrays\n",
        "X_train = np.array(nk_training_features)\n",
        "y_train = np.array(nk_training_labels)"
      ]
    },
    {
      "cell_type": "code",
      "execution_count": 14,
      "metadata": {
        "colab": {
          "base_uri": "https://localhost:8080/"
        },
        "id": "NxnhSShPthpm",
        "outputId": "88b35075-50d0-42dc-b5d5-fb3d2c273735"
      },
      "outputs": [
        {
          "name": "stdout",
          "output_type": "stream",
          "text": [
            "(1933, 60)\n",
            "(1933,)\n"
          ]
        }
      ],
      "source": [
        "print(X_train.shape)\n",
        "print(y_train.shape)"
      ]
    },
    {
      "cell_type": "markdown",
      "metadata": {
        "id": "GG48zgN3tkQr"
      },
      "source": [
        "We need to reshape our oinput feature into a three dimensional format"
      ]
    },
    {
      "cell_type": "code",
      "execution_count": 15,
      "metadata": {
        "id": "Yb0hTEtotktd"
      },
      "outputs": [],
      "source": [
        "#Converting data into 3D shape\n",
        "X_train = np.reshape(X_train, (X_train.shape[0], X_train.shape[1], 1))"
      ]
    },
    {
      "cell_type": "markdown",
      "metadata": {
        "id": "eR6MEyZqtoWn"
      },
      "source": [
        "The following script creates our LSTM model. We have four LSTM layers with 100 nodes each. Each LSTM layer is followed by a dropout layer to avoid overfitting. The final dense layer has one node since the output is a single value."
      ]
    },
    {
      "cell_type": "code",
      "execution_count": 16,
      "metadata": {
        "id": "-eY-vs5mtosB"
      },
      "outputs": [],
      "source": [
        "#importing libraries\n",
        "import numpy as np\n",
        "import matplotlib.pyplot as plt\n",
        "from tensorflow.keras.layers import Input, Activation, Dense, Flatten, Dropout,  Flatten, LSTM\n",
        "from tensorflow.keras.models import Model"
      ]
    },
    {
      "cell_type": "markdown",
      "metadata": {
        "id": "tL_4qZORt6Dq"
      },
      "source": []
    },
    {
      "cell_type": "code",
      "execution_count": 17,
      "metadata": {
        "id": "HttbpnJ_tsUN"
      },
      "outputs": [],
      "source": [
        "#defining the LSTM network\n",
        "## From this we are using LSTM function for calculate the trends which is a type of RNN model\n",
        "input_layer = Input(shape = (X_train.shape[1], 1))\n",
        "lstm1 = LSTM(100, activation='relu', return_sequences=True)(input_layer)\n",
        "do1 = Dropout(0.2)(lstm1)\n",
        "lstm2 = LSTM(100, activation='relu', return_sequences=True)(do1)\n",
        "do2 = Dropout(0.2)(lstm2)\n",
        "lstm3 = LSTM(100, activation='relu', return_sequences=True)(do2)\n",
        "do3 = Dropout(0.2)(lstm3)\n",
        "lstm4 = LSTM(100, activation='relu')(do3) \n",
        "do4 = Dropout(0.2)(lstm4)\n",
        "\n",
        "output_layer = Dense(1)(do4)\n",
        "model = Model(input_layer, output_layer)\n",
        "model.compile(optimizer='adam', loss='mse')"
      ]
    },
    {
      "cell_type": "markdown",
      "metadata": {
        "id": "amiB18tXt04q"
      },
      "source": [
        "Next, we need to convert the output y into a column vector."
      ]
    },
    {
      "cell_type": "code",
      "execution_count": 18,
      "metadata": {
        "colab": {
          "base_uri": "https://localhost:8080/"
        },
        "id": "PGiRF0f2tv4l",
        "outputId": "c51444e7-7474-43ef-f614-b8b163d1d67c"
      },
      "outputs": [
        {
          "name": "stdout",
          "output_type": "stream",
          "text": [
            "(1933, 60, 1)\n",
            "(1933,)\n",
            "(1933, 1)\n"
          ]
        }
      ],
      "source": [
        "print(X_train.shape)\n",
        "print(y_train.shape)\n",
        "\n",
        "y_train= y_train.reshape(-1,1)\n",
        "print(y_train.shape)"
      ]
    },
    {
      "cell_type": "markdown",
      "metadata": {
        "id": "OQra450St0U6"
      },
      "source": [
        "The following script trains our stock price prediction model on the training set"
      ]
    },
    {
      "cell_type": "code",
      "execution_count": 19,
      "metadata": {
        "colab": {
          "base_uri": "https://localhost:8080/"
        },
        "id": "TQlkJqF6tzat",
        "outputId": "a256976d-1097-43d2-84d6-544c86a10a43"
      },
      "outputs": [
        {
          "name": "stdout",
          "output_type": "stream",
          "text": [
            "Epoch 1/100\n",
            "61/61 [==============================] - 18s 209ms/step - loss: 0.0274\n",
            "Epoch 2/100\n",
            "61/61 [==============================] - 13s 209ms/step - loss: 0.0045\n",
            "Epoch 3/100\n",
            "61/61 [==============================] - 13s 209ms/step - loss: 0.0039\n",
            "Epoch 4/100\n",
            "61/61 [==============================] - 13s 208ms/step - loss: 0.0043\n",
            "Epoch 5/100\n",
            "61/61 [==============================] - 13s 209ms/step - loss: 0.0035\n",
            "Epoch 6/100\n",
            "61/61 [==============================] - 13s 207ms/step - loss: 0.0036\n",
            "Epoch 7/100\n",
            "61/61 [==============================] - 13s 210ms/step - loss: 0.0032\n",
            "Epoch 8/100\n",
            "61/61 [==============================] - 14s 228ms/step - loss: 0.0033\n",
            "Epoch 9/100\n",
            "61/61 [==============================] - 13s 207ms/step - loss: 0.0027\n",
            "Epoch 10/100\n",
            "61/61 [==============================] - 13s 208ms/step - loss: 0.0030\n",
            "Epoch 11/100\n",
            "61/61 [==============================] - 13s 208ms/step - loss: 0.0031\n",
            "Epoch 12/100\n",
            "61/61 [==============================] - 13s 209ms/step - loss: 0.0027\n",
            "Epoch 13/100\n",
            "61/61 [==============================] - 13s 217ms/step - loss: 0.0026\n",
            "Epoch 14/100\n",
            "61/61 [==============================] - 13s 208ms/step - loss: 0.0027\n",
            "Epoch 15/100\n",
            "61/61 [==============================] - 13s 208ms/step - loss: 0.0029\n",
            "Epoch 16/100\n",
            "61/61 [==============================] - 13s 207ms/step - loss: 0.0026\n",
            "Epoch 17/100\n",
            "61/61 [==============================] - 13s 209ms/step - loss: 0.0023\n",
            "Epoch 18/100\n",
            "61/61 [==============================] - 13s 208ms/step - loss: 0.0023\n",
            "Epoch 19/100\n",
            "61/61 [==============================] - 13s 208ms/step - loss: 0.0022\n",
            "Epoch 20/100\n",
            "61/61 [==============================] - 13s 207ms/step - loss: 0.0023\n",
            "Epoch 21/100\n",
            "61/61 [==============================] - 14s 227ms/step - loss: 0.0020\n",
            "Epoch 22/100\n",
            "61/61 [==============================] - 13s 208ms/step - loss: 0.0021\n",
            "Epoch 23/100\n",
            "61/61 [==============================] - 13s 207ms/step - loss: 0.0022\n",
            "Epoch 24/100\n",
            "61/61 [==============================] - 13s 208ms/step - loss: 0.0021\n",
            "Epoch 25/100\n",
            "61/61 [==============================] - 13s 209ms/step - loss: 0.0020\n",
            "Epoch 26/100\n",
            "61/61 [==============================] - 13s 209ms/step - loss: 0.0018\n",
            "Epoch 27/100\n",
            "61/61 [==============================] - 13s 208ms/step - loss: 0.0019\n",
            "Epoch 28/100\n",
            "61/61 [==============================] - 13s 206ms/step - loss: 0.0020\n",
            "Epoch 29/100\n",
            "61/61 [==============================] - 13s 208ms/step - loss: 0.0017\n",
            "Epoch 30/100\n",
            "61/61 [==============================] - 13s 209ms/step - loss: 0.0017\n",
            "Epoch 31/100\n",
            "61/61 [==============================] - 13s 207ms/step - loss: 0.0016\n",
            "Epoch 32/100\n",
            "61/61 [==============================] - 13s 208ms/step - loss: 0.0018\n",
            "Epoch 33/100\n",
            "61/61 [==============================] - 13s 210ms/step - loss: 0.0017\n",
            "Epoch 34/100\n",
            "61/61 [==============================] - 14s 226ms/step - loss: 0.0018\n",
            "Epoch 35/100\n",
            "61/61 [==============================] - 13s 205ms/step - loss: 0.0018\n",
            "Epoch 36/100\n",
            "61/61 [==============================] - 13s 205ms/step - loss: 0.0018\n",
            "Epoch 37/100\n",
            "61/61 [==============================] - 13s 208ms/step - loss: 0.0016\n",
            "Epoch 38/100\n",
            "61/61 [==============================] - 13s 206ms/step - loss: 0.0017\n",
            "Epoch 39/100\n",
            "61/61 [==============================] - 13s 206ms/step - loss: 0.0018\n",
            "Epoch 40/100\n",
            "61/61 [==============================] - 13s 207ms/step - loss: 0.0018\n",
            "Epoch 41/100\n",
            "61/61 [==============================] - 13s 208ms/step - loss: 0.0017\n",
            "Epoch 42/100\n",
            "61/61 [==============================] - 13s 206ms/step - loss: 0.0015\n",
            "Epoch 43/100\n",
            "61/61 [==============================] - 13s 206ms/step - loss: 0.0014\n",
            "Epoch 44/100\n",
            "61/61 [==============================] - 13s 209ms/step - loss: 0.0016\n",
            "Epoch 45/100\n",
            "61/61 [==============================] - 13s 210ms/step - loss: 0.0015\n",
            "Epoch 46/100\n",
            "61/61 [==============================] - 13s 207ms/step - loss: 0.0015\n",
            "Epoch 47/100\n",
            "61/61 [==============================] - 14s 227ms/step - loss: 0.0016\n",
            "Epoch 48/100\n",
            "61/61 [==============================] - 13s 208ms/step - loss: 0.0015\n",
            "Epoch 49/100\n",
            "61/61 [==============================] - 13s 209ms/step - loss: 0.0015\n",
            "Epoch 50/100\n",
            "61/61 [==============================] - 13s 207ms/step - loss: 0.0013\n",
            "Epoch 51/100\n",
            "61/61 [==============================] - 13s 210ms/step - loss: 0.0015\n",
            "Epoch 52/100\n",
            "61/61 [==============================] - 13s 206ms/step - loss: 0.0014\n",
            "Epoch 53/100\n",
            "61/61 [==============================] - 13s 209ms/step - loss: 0.0013\n",
            "Epoch 54/100\n",
            "61/61 [==============================] - 13s 210ms/step - loss: 0.0014\n",
            "Epoch 55/100\n",
            "61/61 [==============================] - 13s 207ms/step - loss: 0.0015\n",
            "Epoch 56/100\n",
            "61/61 [==============================] - 13s 209ms/step - loss: 0.0014\n",
            "Epoch 57/100\n",
            "61/61 [==============================] - 13s 209ms/step - loss: 0.0015\n",
            "Epoch 58/100\n",
            "61/61 [==============================] - 13s 210ms/step - loss: 0.0015\n",
            "Epoch 59/100\n",
            "61/61 [==============================] - 13s 210ms/step - loss: 0.0014\n",
            "Epoch 60/100\n",
            "61/61 [==============================] - 14s 229ms/step - loss: 0.0013\n",
            "Epoch 61/100\n",
            "61/61 [==============================] - 13s 210ms/step - loss: 0.0015\n",
            "Epoch 62/100\n",
            "61/61 [==============================] - 13s 210ms/step - loss: 0.0014\n",
            "Epoch 63/100\n",
            "61/61 [==============================] - 13s 210ms/step - loss: 0.0014\n",
            "Epoch 64/100\n",
            "61/61 [==============================] - 13s 209ms/step - loss: 0.0013\n",
            "Epoch 65/100\n",
            "61/61 [==============================] - 13s 211ms/step - loss: 0.0014\n",
            "Epoch 66/100\n",
            "61/61 [==============================] - 13s 211ms/step - loss: 0.0013\n",
            "Epoch 67/100\n",
            "61/61 [==============================] - 13s 207ms/step - loss: 0.0013\n",
            "Epoch 68/100\n",
            "61/61 [==============================] - 13s 209ms/step - loss: 0.0014\n",
            "Epoch 69/100\n",
            "61/61 [==============================] - 13s 209ms/step - loss: 0.0013\n",
            "Epoch 70/100\n",
            "61/61 [==============================] - 13s 208ms/step - loss: 0.0013\n",
            "Epoch 71/100\n",
            "61/61 [==============================] - 13s 209ms/step - loss: 0.0014\n",
            "Epoch 72/100\n",
            "61/61 [==============================] - 13s 209ms/step - loss: 0.0013\n",
            "Epoch 73/100\n",
            "61/61 [==============================] - 14s 230ms/step - loss: 0.0013\n",
            "Epoch 74/100\n",
            "61/61 [==============================] - 13s 208ms/step - loss: 0.0013\n",
            "Epoch 75/100\n",
            "61/61 [==============================] - 13s 210ms/step - loss: 0.0011\n",
            "Epoch 76/100\n",
            "61/61 [==============================] - 13s 211ms/step - loss: 0.0013\n",
            "Epoch 77/100\n",
            "61/61 [==============================] - 13s 210ms/step - loss: 0.0013\n",
            "Epoch 78/100\n",
            "61/61 [==============================] - 13s 213ms/step - loss: 0.0012\n",
            "Epoch 79/100\n",
            "61/61 [==============================] - 13s 213ms/step - loss: 0.0013\n",
            "Epoch 80/100\n",
            "61/61 [==============================] - 13s 211ms/step - loss: 0.0014\n",
            "Epoch 81/100\n",
            "61/61 [==============================] - 13s 212ms/step - loss: 0.0011\n",
            "Epoch 82/100\n",
            "61/61 [==============================] - 13s 214ms/step - loss: 0.0012\n",
            "Epoch 83/100\n",
            "61/61 [==============================] - 13s 209ms/step - loss: 0.0014\n",
            "Epoch 84/100\n",
            "61/61 [==============================] - 13s 208ms/step - loss: 0.0012\n",
            "Epoch 85/100\n",
            "61/61 [==============================] - 13s 208ms/step - loss: 0.0012\n",
            "Epoch 86/100\n",
            "61/61 [==============================] - 14s 230ms/step - loss: 0.0011\n",
            "Epoch 87/100\n",
            "61/61 [==============================] - 13s 211ms/step - loss: 0.0013\n",
            "Epoch 88/100\n",
            "61/61 [==============================] - 13s 210ms/step - loss: 0.0012\n",
            "Epoch 89/100\n",
            "61/61 [==============================] - 13s 211ms/step - loss: 0.0012\n",
            "Epoch 90/100\n",
            "61/61 [==============================] - 13s 211ms/step - loss: 0.0012\n",
            "Epoch 91/100\n",
            "61/61 [==============================] - 13s 208ms/step - loss: 0.0013\n",
            "Epoch 92/100\n",
            "61/61 [==============================] - 13s 211ms/step - loss: 0.0011\n",
            "Epoch 93/100\n",
            "61/61 [==============================] - 13s 211ms/step - loss: 0.0011\n",
            "Epoch 94/100\n",
            "61/61 [==============================] - 13s 208ms/step - loss: 0.0012\n",
            "Epoch 95/100\n",
            "61/61 [==============================] - 13s 208ms/step - loss: 0.0012\n",
            "Epoch 96/100\n",
            "61/61 [==============================] - 13s 210ms/step - loss: 0.0012\n",
            "Epoch 97/100\n",
            "61/61 [==============================] - 13s 209ms/step - loss: 0.0011\n",
            "Epoch 98/100\n",
            "61/61 [==============================] - 13s 209ms/step - loss: 0.0011\n",
            "Epoch 99/100\n",
            "61/61 [==============================] - 14s 225ms/step - loss: 0.0010\n",
            "Epoch 100/100\n",
            "61/61 [==============================] - 13s 209ms/step - loss: 0.0011\n"
          ]
        }
      ],
      "source": [
        "#training the model\n",
        "model_history = model.fit(X_train, y_train, epochs=100, verbose=1, batch_size = 32)"
      ]
    },
    {
      "cell_type": "markdown",
      "metadata": {
        "id": "ZpJxmeWmvdOE"
      },
      "source": []
    },
    {
      "cell_type": "markdown",
      "metadata": {
        "id": "LfDvIrpSuMgT"
      },
      "source": [
        "Testing the Stock Prediction Model\n",
        "\n",
        "\n",
        "*   The test data should also be converted into the right shape to test our stock prediction model. We will do that later.\n",
        "*   Let’s first import the data and then remove all the columns from the test data except the Open column."
      ]
    },
    {
      "cell_type": "markdown",
      "metadata": {
        "id": "bmedA6bTuQKh"
      },
      "source": [
        "Importing Test data set"
      ]
    },
    {
      "cell_type": "code",
      "execution_count": 21,
      "metadata": {
        "id": "GdP5cTGouMID"
      },
      "outputs": [],
      "source": [
        "#creating test set\n",
        "nk_testing_complete_data = pd.read_csv(\"/content/NKE_test.csv\")\n",
        "nk_testing_processed = nk_testing_complete_data[['Open']]. values"
      ]
    },
    {
      "cell_type": "markdown",
      "metadata": {
        "id": "m8HXsW6nuYOl"
      },
      "source": [
        "Let’s concatenate the training and test sets. We do this because to predict the first value in the test set, the input will be the data from the past 60 days, which is basically the data from the last 60 days in the training set."
      ]
    },
    {
      "cell_type": "code",
      "execution_count": 22,
      "metadata": {
        "id": "3mz8yu74uZl4"
      },
      "outputs": [],
      "source": [
        "nk_all_data = pd.concat((nk_complete_data['Open'], nk_testing_complete_data['Open']), axis=0)"
      ]
    },
    {
      "cell_type": "code",
      "execution_count": 23,
      "metadata": {
        "colab": {
          "base_uri": "https://localhost:8080/"
        },
        "id": "kBPVPFe0udqu",
        "outputId": "1d87cab4-bb98-4549-b07c-a14cd46a248c"
      },
      "outputs": [
        {
          "name": "stdout",
          "output_type": "stream",
          "text": [
            "(81,)\n"
          ]
        }
      ],
      "source": [
        "test_inputs = nk_all_data [len(nk_all_data) - len(nk_testing_complete_data) - 60:].values\n",
        "print(test_inputs.shape)"
      ]
    },
    {
      "cell_type": "code",
      "execution_count": 24,
      "metadata": {
        "colab": {
          "base_uri": "https://localhost:8080/"
        },
        "id": "e1hGs7AtuhvU",
        "outputId": "1f4af6a0-ebaa-4a2c-f0b9-1bcf94f25dc1"
      },
      "outputs": [
        {
          "name": "stdout",
          "output_type": "stream",
          "text": [
            "(81, 1)\n"
          ]
        }
      ],
      "source": [
        "test_inputs = test_inputs.reshape(-1,1)\n",
        "test_inputs = scaler.transform(test_inputs)\n",
        "print(test_inputs.shape)"
      ]
    },
    {
      "cell_type": "code",
      "execution_count": 25,
      "metadata": {
        "id": "jExUBxQXulZA"
      },
      "outputs": [],
      "source": [
        "nk_test_features = []\n",
        "for i in range(60, 80):\n",
        "  nk_test_features.append(test_inputs[i-60:i, 0])"
      ]
    },
    {
      "cell_type": "code",
      "execution_count": 26,
      "metadata": {
        "colab": {
          "base_uri": "https://localhost:8080/"
        },
        "id": "4xgJxdrTupjN",
        "outputId": "8e2d7552-5a0d-4947-e6b3-ffab37d8904b"
      },
      "outputs": [
        {
          "name": "stdout",
          "output_type": "stream",
          "text": [
            "(20, 60)\n"
          ]
        }
      ],
      "source": [
        "X_test = np.array(nk_test_features)\n",
        "print(X_test.shape)"
      ]
    },
    {
      "cell_type": "markdown",
      "metadata": {
        "id": "ph8sqIzeus3W"
      },
      "source": [
        "Our feature set is currently 2-dimensional. But the LSTM algorithm in Keras accepts data in 3-dimensional. The following script converts our input features into a 3-dimensional shape."
      ]
    },
    {
      "cell_type": "code",
      "execution_count": 27,
      "metadata": {
        "colab": {
          "base_uri": "https://localhost:8080/"
        },
        "id": "N5VMyFpAurD_",
        "outputId": "fb153449-0035-44fc-c263-c01988a689ea"
      },
      "outputs": [
        {
          "name": "stdout",
          "output_type": "stream",
          "text": [
            "(20, 60, 1)\n"
          ]
        }
      ],
      "source": [
        "#converting test data into 3D shape\n",
        "X_test = np.reshape(X_test, (X_test.shape[0], X_test. shape[1], 1))\n",
        "print(X_test.shape)"
      ]
    },
    {
      "cell_type": "markdown",
      "metadata": {
        "id": "tGLpLNqiuwov"
      },
      "source": [
        "Now is the time to make predictions on the test set."
      ]
    },
    {
      "cell_type": "code",
      "execution_count": 28,
      "metadata": {
        "colab": {
          "base_uri": "https://localhost:8080/"
        },
        "id": "7d8BZPtbuv5c",
        "outputId": "803195ee-adfa-416e-f9cd-985c3f20cd9c"
      },
      "outputs": [
        {
          "name": "stdout",
          "output_type": "stream",
          "text": [
            "1/1 [==============================] - 1s 643ms/step\n"
          ]
        }
      ],
      "source": [
        "#making predictions on test set\n",
        "y_pred = model.predict(X_test)"
      ]
    },
    {
      "cell_type": "markdown",
      "metadata": {
        "id": "Cm4tnwAYu16l"
      },
      "source": [
        "Since we scaled our input feature, we need to apply the inverse_transform() method of the scaler object on the predicted output to get the original output values."
      ]
    },
    {
      "cell_type": "code",
      "execution_count": 29,
      "metadata": {
        "id": "C5wR7ck_u0eE"
      },
      "outputs": [],
      "source": [
        "#converting scaled data back to original data\n",
        "y_pred = scaler.inverse_transform(y_pred)"
      ]
    },
    {
      "cell_type": "markdown",
      "metadata": {
        "id": "bIJ_D28su4OK"
      },
      "source": [
        "Finally, to compare the predicted output with the actual stock price values, you can plot the two values"
      ]
    },
    {
      "cell_type": "code",
      "execution_count": 31,
      "metadata": {
        "colab": {
          "base_uri": "https://localhost:8080/",
          "height": 404
        },
        "id": "T6F292-Qu6Ce",
        "outputId": "91f4d910-9454-497b-9b5f-50d28ea5ebfe"
      },
      "outputs": [
        {
          "data": {
            "image/png": "[encoded data removed]",
            "text/plain": [
              "<Figure size 576x432 with 1 Axes>"
            ]
          },
          "metadata": {
            "needs_background": "light"
          },
          "output_type": "display_data"
        }
      ],
      "source": [
        "#plotting original and predicted stock values\n",
        "plt.figure(figsize=(8,6))\n",
        "plt.plot(nk_testing_processed, color='red', label='Actual Nike Stock Price')\n",
        "plt.plot(y_pred , color='green', label='Predicted Nike Stock Price')\n",
        "plt.title('Nike Stock Prices')\n",
        "plt.xlabel('Date')\n",
        "plt.ylabel('Stock Price')\n",
        "plt.legend()\n",
        "plt.show()"
      ]
    },
    {
      "cell_type": "markdown",
      "metadata": {
        "id": "AaZR1Yng01gC"
      },
      "source": [
        "The output shows that our algorithm has been able to partially capture the trend of the future opening stock prices for Nike Data"
      ]
    }
  ],
  "metadata": {
    "colab": {
      "provenance": []
    },
    "kernelspec": {
      "display_name": "Python 3.10.6 64-bit",
      "language": "python",
      "name": "python3"
    },
    "language_info": {
      "name": "python",
      "version": "3.10.6"
    },
    "vscode": {
      "interpreter": {
        "hash": "aee8b7b246df8f9039afb4144a1f6fd8d2ca17a180786b69acc140d282b71a49"
      }
    }
  },
  "nbformat": 4,
  "nbformat_minor": 0
}
